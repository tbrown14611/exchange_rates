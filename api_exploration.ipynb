{
 "cells": [
  {
   "cell_type": "code",
   "execution_count": 1,
   "id": "8d173d0e",
   "metadata": {},
   "outputs": [],
   "source": [
    "# Import dependencies\n",
    "import requests\n",
    "import json\n",
    "import pandas as pd\n",
    "from dotenv import load_dotenv\n",
    "import os\n"
   ]
  },
  {
   "cell_type": "code",
   "execution_count": 2,
   "id": "e59cdb6d",
   "metadata": {},
   "outputs": [
    {
     "name": "stdout",
     "output_type": "stream",
     "text": [
      "ee17831fcde7e5719dc6bfc565af1890\n"
     ]
    }
   ],
   "source": [
    "load_dotenv()\n",
    "\n",
    "EXC_API_KEY = os.getenv(\"EXCHANGE_RATE\")\n",
    "\n",
    "print(EXC_API_KEY)"
   ]
  },
  {
   "cell_type": "code",
   "execution_count": 19,
   "id": "dd9ae1ac",
   "metadata": {},
   "outputs": [
    {
     "name": "stdout",
     "output_type": "stream",
     "text": [
      "{'success': True, 'timestamp': 1711434725, 'base': 'EUR', 'date': '2024-03-26', 'rates': {'AED': 3.984971, 'AFN': 77.277862, 'ALL': 103.004733, 'AMD': 429.224561, 'ANG': 1.953586, 'AOA': 910.42286, 'ARS': 929.128264, 'AUD': 1.657697, 'AWG': 1.953231, 'AZN': 1.839854, 'BAM': 1.957736, 'BBD': 2.188625, 'BDT': 118.967675, 'BGN': 1.957175, 'BHD': 0.409005, 'BIF': 3100.566877, 'BMD': 1.085128, 'BND': 1.458342, 'BOB': 7.490409, 'BRL': 5.400362, 'BSD': 1.083902, 'BTC': 1.5401888e-05, 'BTN': 90.381399, 'BWP': 14.879129, 'BYN': 3.547307, 'BYR': 21268.515416, 'BZD': 2.184922, 'CAD': 1.473089, 'CDF': 3005.805743, 'CHF': 0.976339, 'CLF': 0.038476, 'CLP': 1061.66769, 'CNY': 7.832238, 'COP': 4217.893848, 'CRC': 544.753895, 'CUC': 1.085128, 'CUP': 28.755901, 'CVE': 110.374175, 'CZK': 25.304972, 'DJF': 193.026265, 'DKK': 7.457251, 'DOP': 64.05513, 'DZD': 146.041935, 'EGP': 51.428896, 'ERN': 16.276925, 'ETB': 61.579413, 'EUR': 1, 'FJD': 2.441863, 'FKP': 0.858151, 'GBP': 0.857371, 'GEL': 2.941777, 'GGP': 0.858151, 'GHS': 14.253098, 'GIP': 0.858151, 'GMD': 73.70737, 'GNF': 9316.386867, 'GTQ': 8.454362, 'GYD': 226.77431, 'HKD': 8.488449, 'HNL': 26.76121, 'HRK': 7.46826, 'HTG': 143.712151, 'HUF': 397.14584, 'IDR': 17137.431835, 'ILS': 3.962872, 'IMP': 0.858151, 'INR': 90.448648, 'IQD': 1419.904476, 'IRR': 45626.945337, 'ISK': 149.107413, 'JEP': 0.858151, 'JMD': 166.719517, 'JOD': 0.769247, 'JPY': 164.199405, 'KES': 143.616963, 'KGS': 97.130161, 'KHR': 4386.338678, 'KMF': 493.136701, 'KPW': 976.658122, 'KRW': 1453.599955, 'KWD': 0.333829, 'KYD': 0.903293, 'KZT': 488.302997, 'LAK': 22828.211285, 'LBP': 97067.896765, 'LKR': 327.634642, 'LRD': 209.158879, 'LSL': 20.519757, 'LTL': 3.204102, 'LVL': 0.656383, 'LYD': 5.244332, 'MAD': 10.921703, 'MDL': 19.185507, 'MGA': 4743.823428, 'MKD': 61.676006, 'MMK': 2276.314513, 'MNT': 3692.808562, 'MOP': 8.733138, 'MRU': 43.275422, 'MUR': 50.220034, 'MVR': 16.74375, 'MWK': 1879.410949, 'MXN': 18.089952, 'MYR': 5.1207, 'MZN': 68.907582, 'NAD': 20.519566, 'NGN': 1562.996844, 'NIO': 39.889456, 'NOK': 11.606163, 'NPR': 144.614041, 'NZD': 1.803603, 'OMR': 0.417735, 'PAB': 1.083972, 'PEN': 4.014871, 'PGK': 4.093124, 'PHP': 61.067221, 'PKR': 301.528388, 'PLN': 4.307347, 'PYG': 7967.100794, 'QAR': 3.950681, 'RON': 4.97108, 'RSD': 117.232901, 'RUB': 100.3581, 'RWF': 1392.31568, 'SAR': 4.069725, 'SBD': 9.174157, 'SCR': 15.679376, 'SDG': 652.162229, 'SEK': 11.462178, 'SGD': 1.458847, 'SHP': 1.372257, 'SLE': 24.519789, 'SLL': 24519.789159, 'SOS': 620.152104, 'SRD': 38.023992, 'STD': 22459.965722, 'SVC': 9.484381, 'SYP': 14108.605467, 'SZL': 20.552898, 'THB': 39.451471, 'TJS': 11.847319, 'TMT': 3.797949, 'TND': 3.383437, 'TOP': 2.556725, 'TRY': 34.912055, 'TTD': 7.367423, 'TWD': 34.627527, 'TZS': 2772.5028, 'UAH': 42.588203, 'UGX': 4222.176299, 'USD': 1.085128, 'UYU': 40.890446, 'UZS': 13654.506139, 'VEF': 3940216.133887, 'VES': 39.40327, 'VND': 26886.767384, 'VUV': 131.879861, 'WST': 3.002518, 'XAF': 656.624643, 'XAG': 0.044106, 'XAU': 0.000499, 'XCD': 2.932614, 'XDR': 0.818632, 'XOF': 656.624643, 'XPF': 119.331742, 'YER': 271.721118, 'ZAR': 20.471163, 'ZMK': 9767.485091, 'ZMW': 29.02251, 'ZWL': 349.410882}}\n"
     ]
    },
    {
     "data": {
      "text/plain": [
       "0    1.085128\n",
       "Name: rates.USD, dtype: float64"
      ]
     },
     "execution_count": 19,
     "metadata": {},
     "output_type": "execute_result"
    }
   ],
   "source": [
    "\n",
    "base_url = \"http://api.exchangeratesapi.io/v1/latest\"\n",
    "api_key = EXC_API_KEY\n",
    "complete_url = f\"{base_url}?access_key={api_key}\" \n",
    "response = requests.get(complete_url)\n",
    "print(response.json())\n",
    "exchange_df = pd.json_normalize(response.json())\n",
    "dict_list_orient = exchange_df.to_dict('list')\n",
    "# base is restricted to EUR for $0 exchange rate pricing plan\n",
    "rates = []\n",
    "for rate in dict_list_orient:\n",
    "    if rate.startswith(\"rates\"):\n",
    "        rates.append(rate)\n",
    "       \n",
    "exchange_df['rates.USD']"
   ]
  },
  {
   "cell_type": "code",
   "execution_count": 28,
   "id": "d10ba892",
   "metadata": {},
   "outputs": [
    {
     "name": "stdout",
     "output_type": "stream",
     "text": [
      "Rate Entered: PAB\n",
      "0    1.083972\n",
      "Name: rates.PAB, dtype: float64\n"
     ]
    }
   ],
   "source": [
    "# Accept input\n",
    "\n",
    "user_rate_request = input(\"Enter Rate Code: \")\n",
    "print(\"Rate Entered: \"+user_rate_request.upper())\n",
    "rate = 'rates.'+ user_rate_request.upper()\n",
    "if rate not in rates:\n",
    "    print(\"bad rate entered\")\n",
    "else:\n",
    "    print(exchange_df[rate])\n",
    "   \n"
   ]
  }
 ],
 "metadata": {
  "kernelspec": {
   "display_name": "Python 3 (ipykernel)",
   "language": "python",
   "name": "python3"
  },
  "language_info": {
   "codemirror_mode": {
    "name": "ipython",
    "version": 3
   },
   "file_extension": ".py",
   "mimetype": "text/x-python",
   "name": "python",
   "nbconvert_exporter": "python",
   "pygments_lexer": "ipython3",
   "version": "3.10.13"
  }
 },
 "nbformat": 4,
 "nbformat_minor": 5
}
