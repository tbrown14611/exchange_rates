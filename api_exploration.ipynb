{
 "cells": [
  {
   "cell_type": "code",
   "execution_count": 1,
   "id": "8d173d0e",
   "metadata": {},
   "outputs": [],
   "source": [
    "# Import dependencies\n",
    "import requests\n",
    "import json\n",
    "import pandas as pd\n",
    "from dotenv import load_dotenv\n",
    "import os\n"
   ]
  },
  {
   "cell_type": "code",
   "execution_count": 2,
   "id": "e59cdb6d",
   "metadata": {},
   "outputs": [
    {
     "name": "stdout",
     "output_type": "stream",
     "text": [
      "ee17831fcde7e5719dc6bfc565af1890\n"
     ]
    }
   ],
   "source": [
    "load_dotenv()\n",
    "\n",
    "EXC_API_KEY = os.getenv(\"EXCHANGE_RATE\")\n",
    "\n",
    "print(EXC_API_KEY)"
   ]
  },
  {
   "cell_type": "code",
   "execution_count": 17,
   "id": "dd9ae1ac",
   "metadata": {},
   "outputs": [
    {
     "name": "stdout",
     "output_type": "stream",
     "text": [
      "{'success': True, 'timestamp': 1711423085, 'base': 'EUR', 'date': '2024-03-26', 'rates': {'AED': 3.9814, 'AFN': 77.207516, 'ALL': 102.910967, 'AMD': 428.833835, 'ANG': 1.951808, 'AOA': 909.594061, 'ARS': 928.299586, 'AUD': 1.657023, 'AWG': 1.951453, 'AZN': 1.848907, 'BAM': 1.955954, 'BBD': 2.186633, 'BDT': 118.859378, 'BGN': 1.955899, 'BHD': 0.40857, 'BIF': 3097.74441, 'BMD': 1.084141, 'BND': 1.457015, 'BOB': 7.48359, 'BRL': 5.395008, 'BSD': 1.082915, 'BTC': 1.5415247e-05, 'BTN': 90.299125, 'BWP': 14.865584, 'BYN': 3.544078, 'BYR': 21249.154543, 'BZD': 2.182933, 'CAD': 1.472312, 'CDF': 3003.069629, 'CHF': 0.975585, 'CLF': 0.038441, 'CLP': 1060.701134, 'CNY': 7.825297, 'COP': 4214.054271, 'CRC': 544.258002, 'CUC': 1.084141, 'CUP': 28.729724, 'CVE': 110.273701, 'CZK': 25.297327, 'DJF': 192.850552, 'DKK': 7.456946, 'DOP': 63.99682, 'DZD': 145.958921, 'EGP': 51.388592, 'ERN': 16.262108, 'ETB': 61.523357, 'EUR': 1, 'FJD': 2.470212, 'FKP': 0.857369, 'GBP': 0.857642, 'GEL': 2.917644, 'GGP': 0.857369, 'GHS': 14.240124, 'GIP': 0.857369, 'GMD': 73.6403, 'GNF': 9307.906098, 'GTQ': 8.446666, 'GYD': 226.567876, 'HKD': 8.480836, 'HNL': 26.736849, 'HRK': 7.461462, 'HTG': 143.581328, 'HUF': 397.17497, 'IDR': 17121.614687, 'ILS': 3.949443, 'IMP': 0.857369, 'INR': 90.365928, 'IQD': 1418.611927, 'IRR': 45585.399855, 'ISK': 149.091259, 'JEP': 0.857369, 'JMD': 166.567751, 'JOD': 0.768546, 'JPY': 164.08793, 'KES': 143.486042, 'KGS': 97.041248, 'KHR': 4382.345764, 'KMF': 492.687979, 'KPW': 975.769063, 'KRW': 1453.344707, 'KWD': 0.333547, 'KYD': 0.902471, 'KZT': 487.858492, 'LAK': 22807.43061, 'LBP': 96979.535205, 'LKR': 327.336394, 'LRD': 208.967638, 'LSL': 20.501192, 'LTL': 3.201185, 'LVL': 0.655785, 'LYD': 5.239558, 'MAD': 10.911761, 'MDL': 19.168043, 'MGA': 4739.505094, 'MKD': 61.619862, 'MMK': 2274.242368, 'MNT': 3689.446973, 'MOP': 8.725188, 'MRU': 43.235986, 'MUR': 50.246317, 'MVR': 16.728546, 'MWK': 1877.700108, 'MXN': 18.07739, 'MYR': 5.118195, 'MZN': 68.844899, 'NAD': 20.501123, 'NGN': 1544.716203, 'NIO': 39.853144, 'NOK': 11.608434, 'NPR': 144.482398, 'NZD': 1.804985, 'OMR': 0.417344, 'PAB': 1.082985, 'PEN': 4.011216, 'PGK': 4.089398, 'PHP': 61.017055, 'PKR': 301.253905, 'PLN': 4.304552, 'PYG': 7959.848289, 'QAR': 3.947085, 'RON': 4.970571, 'RSD': 117.213058, 'RUB': 100.266776, 'RWF': 1391.048245, 'SAR': 4.065769, 'SBD': 9.165806, 'SCR': 14.726134, 'SDG': 651.568707, 'SEK': 11.460189, 'SGD': 1.458006, 'SHP': 1.371002, 'SLE': 24.497469, 'SLL': 24497.46863, 'SOS': 619.586953, 'SRD': 37.989414, 'STD': 22439.520264, 'SVC': 9.475748, 'SYP': 14095.762309, 'SZL': 20.534188, 'THB': 39.468683, 'TJS': 11.836534, 'TMT': 3.794492, 'TND': 3.380318, 'TOP': 2.57722, 'TRY': 34.882514, 'TTD': 7.360717, 'TWD': 34.59061, 'TZS': 2766.726932, 'UAH': 42.549435, 'UGX': 4218.332824, 'USD': 1.084141, 'UYU': 40.853223, 'UZS': 13642.07635, 'VEF': 3936629.328622, 'VES': 39.367401, 'VND': 26875.843935, 'VUV': 131.75981, 'WST': 2.999785, 'XAF': 656.026913, 'XAG': 0.044059, 'XAU': 0.0005, 'XCD': 2.929944, 'XDR': 0.817887, 'XOF': 656.026913, 'XPF': 119.331742, 'YER': 271.483094, 'ZAR': 20.474428, 'ZMK': 9758.548572, 'ZMW': 28.99609, 'ZWL': 349.092811}}\n"
     ]
    },
    {
     "data": {
      "text/plain": [
       "0    1.084141\n",
       "Name: rates.USD, dtype: float64"
      ]
     },
     "execution_count": 17,
     "metadata": {},
     "output_type": "execute_result"
    }
   ],
   "source": [
    "\n",
    "base_url = \"http://api.exchangeratesapi.io/v1/latest\"\n",
    "api_key = EXC_API_KEY\n",
    "complete_url = f\"{base_url}?access_key={api_key}\"\n",
    "response = requests.get(complete_url)\n",
    "print(response.json())\n",
    "exchange_df = pd.json_normalize(response.json())\n",
    "exchange_df['rates.USD']"
   ]
  }
 ],
 "metadata": {
  "kernelspec": {
   "display_name": "Python 3 (ipykernel)",
   "language": "python",
   "name": "python3"
  },
  "language_info": {
   "codemirror_mode": {
    "name": "ipython",
    "version": 3
   },
   "file_extension": ".py",
   "mimetype": "text/x-python",
   "name": "python",
   "nbconvert_exporter": "python",
   "pygments_lexer": "ipython3",
   "version": "3.10.13"
  }
 },
 "nbformat": 4,
 "nbformat_minor": 5
}
